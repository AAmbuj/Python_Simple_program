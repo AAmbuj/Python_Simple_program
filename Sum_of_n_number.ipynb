{
  "nbformat": 4,
  "nbformat_minor": 0,
  "metadata": {
    "colab": {
      "name": "Sum of n number",
      "provenance": [],
      "authorship_tag": "ABX9TyN9N25h/PW5ntEAgzn9m83d",
      "include_colab_link": true
    },
    "kernelspec": {
      "name": "python3",
      "display_name": "Python 3"
    },
    "language_info": {
      "name": "python"
    }
  },
  "cells": [
    {
      "cell_type": "markdown",
      "metadata": {
        "id": "view-in-github",
        "colab_type": "text"
      },
      "source": [
        "<a href=\"https://colab.research.google.com/github/AAmbuj/Python_Simple_program/blob/main/Sum_of_n_number.ipynb\" target=\"_parent\"><img src=\"https://colab.research.google.com/assets/colab-badge.svg\" alt=\"Open In Colab\"/></a>"
      ]
    },
    {
      "cell_type": "code",
      "metadata": {
        "colab": {
          "base_uri": "https://localhost:8080/"
        },
        "id": "8HS2L-6NhI5A",
        "outputId": "86eed7ab-fa31-4f4e-cee0-66e1437f3164"
      },
      "source": [
        "n=int(input())\n",
        "sum = 0\n",
        "while(n > 0):\n",
        "    sum=sum+n\n",
        "    n=n-1\n",
        "print(sum)"
      ],
      "execution_count": 1,
      "outputs": [
        {
          "output_type": "stream",
          "text": [
            "5\n",
            "15\n"
          ],
          "name": "stdout"
        }
      ]
    }
  ]
}