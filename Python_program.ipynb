{
  "nbformat": 4,
  "nbformat_minor": 0,
  "metadata": {
    "colab": {
      "name": "Python_program",
      "provenance": [],
      "collapsed_sections": [],
      "authorship_tag": "ABX9TyOntD7+xZVYrQHpofY9JKiW",
      "include_colab_link": true
    },
    "kernelspec": {
      "name": "python3",
      "display_name": "Python 3"
    },
    "language_info": {
      "name": "python"
    }
  },
  "cells": [
    {
      "cell_type": "markdown",
      "metadata": {
        "id": "view-in-github",
        "colab_type": "text"
      },
      "source": [
        "<a href=\"https://colab.research.google.com/github/AAmbuj/Python_Simple_program/blob/main/Python_program.ipynb\" target=\"_parent\"><img src=\"https://colab.research.google.com/assets/colab-badge.svg\" alt=\"Open In Colab\"/></a>"
      ]
    },
    {
      "cell_type": "code",
      "metadata": {
        "colab": {
          "base_uri": "https://localhost:8080/"
        },
        "id": "PBCo5E3ra7Jz",
        "outputId": "9d2c0613-5176-467f-8a85-da2c89835d30"
      },
      "source": [
        "sum([i**2 for i in range(3)])"
      ],
      "execution_count": null,
      "outputs": [
        {
          "output_type": "execute_result",
          "data": {
            "text/plain": [
              "5"
            ]
          },
          "metadata": {
            "tags": []
          },
          "execution_count": 1
        }
      ]
    },
    {
      "cell_type": "code",
      "metadata": {
        "colab": {
          "base_uri": "https://localhost:8080/"
        },
        "id": "rGbOaapnb2vw",
        "outputId": "832dc767-e7a6-47e7-9e23-86aa6294a4cd"
      },
      "source": [
        "sum([i for i in range(10) if i%2==1])"
      ],
      "execution_count": null,
      "outputs": [
        {
          "output_type": "execute_result",
          "data": {
            "text/plain": [
              "25"
            ]
          },
          "metadata": {
            "tags": []
          },
          "execution_count": 4
        }
      ]
    },
    {
      "cell_type": "code",
      "metadata": {
        "colab": {
          "base_uri": "https://localhost:8080/"
        },
        "id": "s-LJ_xgecQlg",
        "outputId": "2f0eb206-8c45-4684-af80-ed96955bf0db"
      },
      "source": [
        "sum([i**2 for i in range(3)])"
      ],
      "execution_count": null,
      "outputs": [
        {
          "output_type": "execute_result",
          "data": {
            "text/plain": [
              "5"
            ]
          },
          "metadata": {
            "tags": []
          },
          "execution_count": 5
        }
      ]
    },
    {
      "cell_type": "code",
      "metadata": {
        "colab": {
          "base_uri": "https://localhost:8080/"
        },
        "id": "OiY7ybhPch8X",
        "outputId": "0510f2be-2116-4d11-ee3b-ee352ada3d1e"
      },
      "source": [
        "filname=\"input.txt\"\n",
        "for line in open(filename):\n",
        "  print(line)\n",
        "  \n"
      ],
      "execution_count": null,
      "outputs": [
        {
          "output_type": "stream",
          "text": [
            "ambuj singh kushwaha\n",
            "\n",
            "you are best\n",
            "\n"
          ],
          "name": "stdout"
        }
      ]
    },
    {
      "cell_type": "code",
      "metadata": {
        "colab": {
          "base_uri": "https://localhost:8080/"
        },
        "id": "o-nI3WULd514",
        "outputId": "3f980f3c-4372-4e2c-a23d-174a912ca31b"
      },
      "source": [
        "for line in open(filname):\n",
        "  line=line.rstrip()\n",
        "  print(line)"
      ],
      "execution_count": null,
      "outputs": [
        {
          "output_type": "stream",
          "text": [
            "ambuj singh kushwaha\n",
            "you are best\n"
          ],
          "name": "stdout"
        }
      ]
    },
    {
      "cell_type": "code",
      "metadata": {
        "colab": {
          "base_uri": "https://localhost:8080/"
        },
        "id": "MXGglPbXeWIM",
        "outputId": "ed475575-fffd-4bcc-a1cd-650b306e0adc"
      },
      "source": [
        "for line in open(filname):\n",
        "  line=line.rstrip().split(\" \")\n",
        "  print(line)"
      ],
      "execution_count": null,
      "outputs": [
        {
          "output_type": "stream",
          "text": [
            "['ambuj', 'singh', 'kushwaha']\n",
            "['you', 'are', 'best']\n"
          ],
          "name": "stdout"
        }
      ]
    },
    {
      "cell_type": "code",
      "metadata": {
        "id": "iT256ASJeycd"
      },
      "source": [
        "F=open(\"input.txt\",\"w\")\n",
        "F.write(\"python\\n\")\n",
        "F.close()"
      ],
      "execution_count": null,
      "outputs": []
    },
    {
      "cell_type": "code",
      "metadata": {
        "colab": {
          "base_uri": "https://localhost:8080/"
        },
        "id": "fZLmTmnLfooi",
        "outputId": "ccb2b6d7-663f-4c50-87dc-014ca64495a4"
      },
      "source": [
        "F = open(\"input.txt\", \"w\")\n",
        "F.write(\"Hello\\nWorld\")\n",
        "F.close()\n",
        "lines = []\n",
        "for line in open(\"input.txt\"):\n",
        "    lines.append(line.strip())\n",
        "print(lines)"
      ],
      "execution_count": null,
      "outputs": [
        {
          "output_type": "stream",
          "text": [
            "['Hello', 'World']\n"
          ],
          "name": "stdout"
        }
      ]
    },
    {
      "cell_type": "code",
      "metadata": {
        "colab": {
          "base_uri": "https://localhost:8080/"
        },
        "id": "rrHCORm0gyqn",
        "outputId": "84fb61ed-64a6-4026-f6c3-231ef0f0de3d"
      },
      "source": [
        "def add(a,b):\n",
        "  return a+b\n",
        "\n",
        "add(5,7)"
      ],
      "execution_count": null,
      "outputs": [
        {
          "output_type": "execute_result",
          "data": {
            "text/plain": [
              "12"
            ]
          },
          "metadata": {
            "tags": []
          },
          "execution_count": 25
        }
      ]
    },
    {
      "cell_type": "code",
      "metadata": {
        "colab": {
          "base_uri": "https://localhost:8080/"
        },
        "id": "geqqtasrhPwO",
        "outputId": "61f0ce5c-4662-4c57-c295-7a75e588f8a2"
      },
      "source": [
        "def add_sub(a,b):\n",
        "  add=a+b\n",
        "  sub=a-b\n",
        "  return(add,sub)\n",
        "\n",
        "add_sub(15,10)"
      ],
      "execution_count": null,
      "outputs": [
        {
          "output_type": "execute_result",
          "data": {
            "text/plain": [
              "(25, 5)"
            ]
          },
          "metadata": {
            "tags": []
          },
          "execution_count": 26
        }
      ]
    },
    {
      "cell_type": "code",
      "metadata": {
        "colab": {
          "base_uri": "https://localhost:8080/"
        },
        "id": "P3giUHkrhsoa",
        "outputId": "b67e74e9-86a3-46ff-ba0b-4b7efd2dc33d"
      },
      "source": [
        "def modify(mylist):\n",
        "  for i in range(len(mylist)):\n",
        "    mylist[i]*=10\n",
        "\n",
        "List=[1,3,5,7,9,11,13,]\n",
        "modify(List)\n",
        "List\n"
      ],
      "execution_count": null,
      "outputs": [
        {
          "output_type": "execute_result",
          "data": {
            "text/plain": [
              "[10, 30, 50, 70, 90, 110, 130]"
            ]
          },
          "metadata": {
            "tags": []
          },
          "execution_count": 30
        }
      ]
    },
    {
      "cell_type": "code",
      "metadata": {
        "colab": {
          "base_uri": "https://localhost:8080/"
        },
        "id": "I60qpypikF_0",
        "outputId": "e5e55c9d-21de-4a87-ddbf-3077b33a138c"
      },
      "source": [
        "def modify(mylist):\n",
        "    mylist[0] *= 10\n",
        "    return(mylist)\n",
        "L = [1, 3, 5, 7, 9]\n",
        "M = modify(L)\n",
        "M is L"
      ],
      "execution_count": null,
      "outputs": [
        {
          "output_type": "execute_result",
          "data": {
            "text/plain": [
              "True"
            ]
          },
          "metadata": {
            "tags": []
          },
          "execution_count": 31
        }
      ]
    },
    {
      "cell_type": "code",
      "metadata": {
        "colab": {
          "base_uri": "https://localhost:8080/",
          "height": 35
        },
        "id": "4OOh1FbtklVV",
        "outputId": "6fbb3774-7072-4026-c646-d01eb9b5d4a1"
      },
      "source": [
        "import random\n",
        "def password(length):\n",
        "  paw=str()\n",
        "  char=\"ambujsinghkushwaha\"\n",
        "  for i in range(length):\n",
        "    paw=paw + random.choice(char)\n",
        "  return paw\n",
        "\n",
        "password(10)"
      ],
      "execution_count": null,
      "outputs": [
        {
          "output_type": "execute_result",
          "data": {
            "application/vnd.google.colaboratory.intrinsic+json": {
              "type": "string"
            },
            "text/plain": [
              "'hmsmijjkhh'"
            ]
          },
          "metadata": {
            "tags": []
          },
          "execution_count": 35
        }
      ]
    },
    {
      "cell_type": "code",
      "metadata": {
        "colab": {
          "base_uri": "https://localhost:8080/"
        },
        "id": "ou8NAwoknge9",
        "outputId": "f1c1b124-0613-4b49-c218-a11de9683514"
      },
      "source": [
        "def intersect(s1,s2):\n",
        "  res=[]\n",
        "  for x in s1:\n",
        "    if x in s2:\n",
        "      res.append(x)\n",
        "  return(res)\n",
        "\n",
        "intersect([1,2,3,4,5,6],[0,1,2,3,5,8])"
      ],
      "execution_count": null,
      "outputs": [
        {
          "output_type": "execute_result",
          "data": {
            "text/plain": [
              "[1, 2, 3, 5]"
            ]
          },
          "metadata": {
            "tags": []
          },
          "execution_count": 37
        }
      ]
    },
    {
      "cell_type": "code",
      "metadata": {
        "colab": {
          "base_uri": "https://localhost:8080/"
        },
        "id": "ABplw5mlomCA",
        "outputId": "9866ac68-fb89-4ba0-93f4-6c176ed8b689"
      },
      "source": [
        "def is_vowel(letter):\n",
        "    if letter in \"aeiouy\":\n",
        "        return(True)\n",
        "    else:\n",
        "        return(False)\n",
        "\n",
        "is_vowel(\"a\")"
      ],
      "execution_count": null,
      "outputs": [
        {
          "output_type": "execute_result",
          "data": {
            "text/plain": [
              "True"
            ]
          },
          "metadata": {
            "tags": []
          },
          "execution_count": 46
        }
      ]
    },
    {
      "cell_type": "code",
      "metadata": {
        "colab": {
          "base_uri": "https://localhost:8080/"
        },
        "id": "aYL7HNwbqR6C",
        "outputId": "99a09fa0-2479-4837-de1c-4712b9d74b48"
      },
      "source": [
        "def is_vowel(letter):\n",
        "    if type(letter) == int:\n",
        "        letter = str(letter)\n",
        "    if letter in \"aeiouy\":\n",
        "        return(True)\n",
        "    else:\n",
        "        return(False)\n",
        "\n",
        "is_vowel(4)"
      ],
      "execution_count": null,
      "outputs": [
        {
          "output_type": "execute_result",
          "data": {
            "text/plain": [
              "False"
            ]
          },
          "metadata": {
            "tags": []
          },
          "execution_count": 43
        }
      ]
    },
    {
      "cell_type": "code",
      "metadata": {
        "colab": {
          "base_uri": "https://localhost:8080/"
        },
        "id": "_w_9OgzLrAze",
        "outputId": "9527abad-7148-4e36-c1ae-c3c08aeab834"
      },
      "source": [
        "def factorial(n):\n",
        "  if n==0:\n",
        "    return 1\n",
        "  else:\n",
        "    N=1\n",
        "    for i in range(1,n+1):\n",
        "      N=N * i\n",
        "    return(N)\n",
        "\n",
        "factorial(5)"
      ],
      "execution_count": null,
      "outputs": [
        {
          "output_type": "execute_result",
          "data": {
            "text/plain": [
              "120"
            ]
          },
          "metadata": {
            "tags": []
          },
          "execution_count": 68
        }
      ]
    }
  ]
}