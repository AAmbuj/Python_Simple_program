{
  "nbformat": 4,
  "nbformat_minor": 0,
  "metadata": {
    "colab": {
      "name": "swaping_python",
      "provenance": [],
      "authorship_tag": "ABX9TyM577ZNbIgxkoZVYd9ltuDZ",
      "include_colab_link": true
    },
    "kernelspec": {
      "name": "python3",
      "display_name": "Python 3"
    },
    "language_info": {
      "name": "python"
    }
  },
  "cells": [
    {
      "cell_type": "markdown",
      "metadata": {
        "id": "view-in-github",
        "colab_type": "text"
      },
      "source": [
        "<a href=\"https://colab.research.google.com/github/AAmbuj/Python_Simple_program/blob/main/swaping_python.ipynb\" target=\"_parent\"><img src=\"https://colab.research.google.com/assets/colab-badge.svg\" alt=\"Open In Colab\"/></a>"
      ]
    },
    {
      "cell_type": "code",
      "metadata": {
        "colab": {
          "base_uri": "https://localhost:8080/"
        },
        "id": "Gz00pe0jS0Id",
        "outputId": "2f719478-3406-437e-fadf-49ce1778bdd5"
      },
      "source": [
        "x=10\n",
        "y=20\n",
        "x=x^y\n",
        "y=x^y\n",
        "x=x^y\n",
        "print(x,y)"
      ],
      "execution_count": 2,
      "outputs": [
        {
          "output_type": "stream",
          "text": [
            "30\n",
            "10\n",
            "20 10\n"
          ],
          "name": "stdout"
        }
      ]
    },
    {
      "cell_type": "code",
      "metadata": {
        "colab": {
          "base_uri": "https://localhost:8080/"
        },
        "id": "ELH5s8VoUjQn",
        "outputId": "0a7a4e91-2f74-45fe-f0a2-0ee91657d5c4"
      },
      "source": [
        "x=10\n",
        "y=20\n",
        "x=x+y\n",
        "y=x-y\n",
        "x=x-y\n",
        "print(x,y)"
      ],
      "execution_count": 3,
      "outputs": [
        {
          "output_type": "stream",
          "text": [
            "20 10\n"
          ],
          "name": "stdout"
        }
      ]
    },
    {
      "cell_type": "code",
      "metadata": {
        "colab": {
          "base_uri": "https://localhost:8080/"
        },
        "id": "LMtnOuZbUzQm",
        "outputId": "e20a43b8-afb4-449b-aa66-3c1de0b9ccb0"
      },
      "source": [
        "x=10\n",
        "y=20\n",
        "temp=x\n",
        "x=y\n",
        "y=temp\n",
        "print(x,y)"
      ],
      "execution_count": 4,
      "outputs": [
        {
          "output_type": "stream",
          "text": [
            "20 10\n"
          ],
          "name": "stdout"
        }
      ]
    },
    {
      "cell_type": "code",
      "metadata": {
        "colab": {
          "base_uri": "https://localhost:8080/"
        },
        "id": "d8o4oC_ES9HQ",
        "outputId": "74074107-6d8a-4036-a0b9-f63f50916e23"
      },
      "source": [
        "x=10\n",
        "y=20\n",
        "x,y=y,x\n",
        "print(x,y)"
      ],
      "execution_count": 5,
      "outputs": [
        {
          "output_type": "stream",
          "text": [
            "20 10\n"
          ],
          "name": "stdout"
        }
      ]
    }
  ]
}