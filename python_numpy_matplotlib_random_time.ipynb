{
  "nbformat": 4,
  "nbformat_minor": 0,
  "metadata": {
    "colab": {
      "name": "python_numpy_matplotlib_random_time",
      "provenance": [],
      "collapsed_sections": [],
      "authorship_tag": "ABX9TyO5BM43N9FOF84Yy7AzaUY1",
      "include_colab_link": true
    },
    "kernelspec": {
      "name": "python3",
      "display_name": "Python 3"
    },
    "language_info": {
      "name": "python"
    }
  },
  "cells": [
    {
      "cell_type": "markdown",
      "metadata": {
        "id": "view-in-github",
        "colab_type": "text"
      },
      "source": [
        "<a href=\"https://colab.research.google.com/github/AAmbuj/Python_Simple_program/blob/main/python_numpy_matplotlib_random_time.ipynb\" target=\"_parent\"><img src=\"https://colab.research.google.com/assets/colab-badge.svg\" alt=\"Open In Colab\"/></a>"
      ]
    },
    {
      "cell_type": "code",
      "metadata": {
        "colab": {
          "base_uri": "https://localhost:8080/"
        },
        "id": "CeBox7hfJ02y",
        "outputId": "ff32cd22-d967-4351-a62c-de083221102b"
      },
      "source": [
        "import numpy as np\n",
        "zero_vector=np.zeros(5)\n",
        "zero_matrix=np.zeros((4,4))\n",
        "print(zero_vector)\n",
        "print(zero_matrix)"
      ],
      "execution_count": 2,
      "outputs": [
        {
          "output_type": "stream",
          "text": [
            "[0. 0. 0. 0. 0.]\n",
            "[[0. 0. 0. 0.]\n",
            " [0. 0. 0. 0.]\n",
            " [0. 0. 0. 0.]\n",
            " [0. 0. 0. 0.]]\n"
          ],
          "name": "stdout"
        }
      ]
    },
    {
      "cell_type": "code",
      "metadata": {
        "colab": {
          "base_uri": "https://localhost:8080/"
        },
        "id": "FON80nInLWc9",
        "outputId": "d9352f80-623f-4b47-8bf4-d558e2f69a69"
      },
      "source": [
        "x=np.array([[1,2,3],[2,4,6]])\n",
        "print(x)\n",
        "x.transpose()"
      ],
      "execution_count": null,
      "outputs": [
        {
          "output_type": "stream",
          "text": [
            "[[1 2 3]\n",
            " [2 4 6]]\n"
          ],
          "name": "stdout"
        },
        {
          "output_type": "execute_result",
          "data": {
            "text/plain": [
              "array([[1, 2],\n",
              "       [2, 4],\n",
              "       [3, 6]])"
            ]
          },
          "metadata": {
            "tags": []
          },
          "execution_count": 11
        }
      ]
    },
    {
      "cell_type": "markdown",
      "metadata": {
        "id": "GjFdlfIeOSN2"
      },
      "source": [
        "We always add same type of array in numpy"
      ]
    },
    {
      "cell_type": "code",
      "metadata": {
        "colab": {
          "base_uri": "https://localhost:8080/"
        },
        "id": "WoU23lV-OcBl",
        "outputId": "bcf2acea-0883-456e-840f-468d6cbb062f"
      },
      "source": [
        "x1=np.array([1,3,5,7,9,11])\n",
        "x2=x1+1\n",
        "print(x1)\n",
        "print(x2)\n",
        "\n",
        "#indexing of array in numpy\n",
        "index=[0,2,4]\n",
        "index_array1=x1[index]\n",
        "print(index_array1)\n",
        "\n",
        "#other method for indexing\n",
        "ind=np.array([1,3,5])\n",
        "index_array2=x1[ind]\n",
        "print(index_array2)"
      ],
      "execution_count": null,
      "outputs": [
        {
          "output_type": "stream",
          "text": [
            "[ 1  3  5  7  9 11]\n",
            "[ 2  4  6  8 10 12]\n",
            "[1 5 9]\n",
            "[ 3  7 11]\n"
          ],
          "name": "stdout"
        }
      ]
    },
    {
      "cell_type": "code",
      "metadata": {
        "colab": {
          "base_uri": "https://localhost:8080/"
        },
        "id": "6NKib3ULQlSN",
        "outputId": "d4a20156-215b-4ce4-d027-dac2970855c8"
      },
      "source": [
        "x1>10"
      ],
      "execution_count": null,
      "outputs": [
        {
          "output_type": "execute_result",
          "data": {
            "text/plain": [
              "array([False, False, False, False, False,  True])"
            ]
          },
          "metadata": {
            "tags": []
          },
          "execution_count": 15
        }
      ]
    },
    {
      "cell_type": "code",
      "metadata": {
        "colab": {
          "base_uri": "https://localhost:8080/"
        },
        "id": "xdgOZj_AQ8o2",
        "outputId": "e2347b2f-5108-4797-95c1-6f1e2b950d07"
      },
      "source": [
        "x1[x1 > 3]"
      ],
      "execution_count": null,
      "outputs": [
        {
          "output_type": "execute_result",
          "data": {
            "text/plain": [
              "array([ 5,  7,  9, 11])"
            ]
          },
          "metadata": {
            "tags": []
          },
          "execution_count": 16
        }
      ]
    },
    {
      "cell_type": "code",
      "metadata": {
        "colab": {
          "base_uri": "https://localhost:8080/"
        },
        "id": "PEya542MRKqW",
        "outputId": "10e06416-58bb-4eeb-820b-6c4a058a148a"
      },
      "source": [
        "w=x1[0:4]\n",
        "print(w)\n",
        "w[0]=10\n"
      ],
      "execution_count": null,
      "outputs": [
        {
          "output_type": "stream",
          "text": [
            "[1 3 5 7]\n"
          ],
          "name": "stdout"
        },
        {
          "output_type": "execute_result",
          "data": {
            "text/plain": [
              "array([10,  3,  5,  7])"
            ]
          },
          "metadata": {
            "tags": []
          },
          "execution_count": 20
        }
      ]
    },
    {
      "cell_type": "code",
      "metadata": {
        "colab": {
          "base_uri": "https://localhost:8080/"
        },
        "id": "2GPici9bSqLE",
        "outputId": "839ea5ed-f37c-4eab-f082-2c9fecd3b9a7"
      },
      "source": [
        "a = np.array([1,2])\n",
        "b = np.array([3,4,5])\n",
        "b[a]"
      ],
      "execution_count": null,
      "outputs": [
        {
          "output_type": "execute_result",
          "data": {
            "text/plain": [
              "array([4, 5])"
            ]
          },
          "metadata": {
            "tags": []
          },
          "execution_count": 21
        }
      ]
    },
    {
      "cell_type": "code",
      "metadata": {
        "colab": {
          "base_uri": "https://localhost:8080/"
        },
        "id": "-pICb8ouRq8h",
        "outputId": "43030024-23b4-48c1-a86e-b0f02e02cd81"
      },
      "source": [
        "c = b[1:]\n",
        "print(c)\n",
        "b[a] is c\n"
      ],
      "execution_count": null,
      "outputs": [
        {
          "output_type": "stream",
          "text": [
            "[4 5]\n"
          ],
          "name": "stdout"
        },
        {
          "output_type": "execute_result",
          "data": {
            "text/plain": [
              "False"
            ]
          },
          "metadata": {
            "tags": []
          },
          "execution_count": 25
        }
      ]
    },
    {
      "cell_type": "code",
      "metadata": {
        "colab": {
          "base_uri": "https://localhost:8080/"
        },
        "id": "Pb1l_OIKUTCQ",
        "outputId": "6ef1b7e8-d007-468d-fe9b-efe7a2ea7a9c"
      },
      "source": [
        "#creating a linear array\n",
        "linear_array=np.linspace(0,100,10)\n",
        "print(linear_array)"
      ],
      "execution_count": null,
      "outputs": [
        {
          "output_type": "stream",
          "text": [
            "[  0.          11.11111111  22.22222222  33.33333333  44.44444444\n",
            "  55.55555556  66.66666667  77.77777778  88.88888889 100.        ]\n"
          ],
          "name": "stdout"
        }
      ]
    },
    {
      "cell_type": "code",
      "metadata": {
        "colab": {
          "base_uri": "https://localhost:8080/"
        },
        "id": "rpuxSnuLWH7T",
        "outputId": "096caff1-51f6-40e0-e48c-062d937d56e5"
      },
      "source": [
        "np.logspace(1,2,10)"
      ],
      "execution_count": null,
      "outputs": [
        {
          "output_type": "execute_result",
          "data": {
            "text/plain": [
              "array([ 10.        ,  12.91549665,  16.68100537,  21.5443469 ,\n",
              "        27.82559402,  35.93813664,  46.41588834,  59.94842503,\n",
              "        77.42636827, 100.        ])"
            ]
          },
          "metadata": {
            "tags": []
          },
          "execution_count": 34
        }
      ]
    },
    {
      "cell_type": "code",
      "metadata": {
        "colab": {
          "base_uri": "https://localhost:8080/"
        },
        "id": "ewBOcDzRWZCN",
        "outputId": "5ba7f485-2a05-4ae6-b73b-338a7bde94e6"
      },
      "source": [
        "np.logspace(np.log10(250),np.log10(500),10)"
      ],
      "execution_count": null,
      "outputs": [
        {
          "output_type": "execute_result",
          "data": {
            "text/plain": [
              "array([250.        , 270.01493472, 291.63225989, 314.98026247,\n",
              "       340.19750004, 367.43362307, 396.85026299, 428.62199143,\n",
              "       462.93735614, 500.        ])"
            ]
          },
          "metadata": {
            "tags": []
          },
          "execution_count": 36
        }
      ]
    },
    {
      "cell_type": "code",
      "metadata": {
        "colab": {
          "base_uri": "https://localhost:8080/"
        },
        "id": "1xcIwlcAXGZN",
        "outputId": "62f60e13-526b-4f97-b94d-b52e0b5d5aec"
      },
      "source": [
        "x.shape"
      ],
      "execution_count": null,
      "outputs": [
        {
          "output_type": "execute_result",
          "data": {
            "text/plain": [
              "(2, 3)"
            ]
          },
          "metadata": {
            "tags": []
          },
          "execution_count": 42
        }
      ]
    },
    {
      "cell_type": "code",
      "metadata": {
        "colab": {
          "base_uri": "https://localhost:8080/"
        },
        "id": "LnNde-NlXYGw",
        "outputId": "0554d75e-9bd8-4ee7-b0ed-8c38eeebb38e"
      },
      "source": [
        "x.size"
      ],
      "execution_count": null,
      "outputs": [
        {
          "output_type": "execute_result",
          "data": {
            "text/plain": [
              "6"
            ]
          },
          "metadata": {
            "tags": []
          },
          "execution_count": 41
        }
      ]
    },
    {
      "cell_type": "code",
      "metadata": {
        "colab": {
          "base_uri": "https://localhost:8080/"
        },
        "id": "C24zxx3AXu70",
        "outputId": "78442bfa-4bce-44c5-e2ff-768607fd82ce"
      },
      "source": [
        "xx=np.random.random(10)\n",
        "print(xx)"
      ],
      "execution_count": null,
      "outputs": [
        {
          "output_type": "stream",
          "text": [
            "[0.35172932 0.55148813 0.60810544 0.51168846 0.06220024 0.51372024\n",
            " 0.07615904 0.38115089 0.80169747 0.91086545]\n"
          ],
          "name": "stdout"
        }
      ]
    },
    {
      "cell_type": "code",
      "metadata": {
        "colab": {
          "base_uri": "https://localhost:8080/"
        },
        "id": "-y0Y8zF_YHJH",
        "outputId": "805823cf-4e67-43cf-89bb-e66f29a8afbd"
      },
      "source": [
        "np.any(xx>0.9)"
      ],
      "execution_count": null,
      "outputs": [
        {
          "output_type": "execute_result",
          "data": {
            "text/plain": [
              "True"
            ]
          },
          "metadata": {
            "tags": []
          },
          "execution_count": 46
        }
      ]
    },
    {
      "cell_type": "code",
      "metadata": {
        "colab": {
          "base_uri": "https://localhost:8080/"
        },
        "id": "4iIr7cgCYeWx",
        "outputId": "3fb4f5aa-834a-4627-8878-f35b2806d58f"
      },
      "source": [
        "np.all(x>=0.1)"
      ],
      "execution_count": null,
      "outputs": [
        {
          "output_type": "execute_result",
          "data": {
            "text/plain": [
              "True"
            ]
          },
          "metadata": {
            "tags": []
          },
          "execution_count": 47
        }
      ]
    },
    {
      "cell_type": "code",
      "metadata": {
        "colab": {
          "base_uri": "https://localhost:8080/"
        },
        "id": "e8frAO3jYljg",
        "outputId": "e6f3de68-bf5f-495f-bc73-0932ce4fee16"
      },
      "source": [
        "x = 17\n",
        "not np.any([x%i == 0 for i in range(2, x)])"
      ],
      "execution_count": null,
      "outputs": [
        {
          "output_type": "execute_result",
          "data": {
            "text/plain": [
              "True"
            ]
          },
          "metadata": {
            "tags": []
          },
          "execution_count": 49
        }
      ]
    },
    {
      "cell_type": "code",
      "metadata": {
        "colab": {
          "base_uri": "https://localhost:8080/",
          "height": 283
        },
        "id": "eQDFnGBqZlWA",
        "outputId": "5fc054a3-2607-42b0-e57e-f02af3d13da9"
      },
      "source": [
        "import matplotlib.pyplot as plt\n",
        "plt.plot([1,2,4,9,16])\n"
      ],
      "execution_count": 3,
      "outputs": [
        {
          "output_type": "execute_result",
          "data": {
            "text/plain": [
              "[<matplotlib.lines.Line2D at 0x7fb90aa55c10>]"
            ]
          },
          "metadata": {
            "tags": []
          },
          "execution_count": 3
        },
        {
          "output_type": "display_data",
          "data": {
            "image/png": "[encoded data removed]",
            "text/plain": [
              "<Figure size 432x288 with 1 Axes>"
            ]
          },
          "metadata": {
            "tags": [],
            "needs_background": "light"
          }
        }
      ]
    },
    {
      "cell_type": "code",
      "metadata": {
        "colab": {
          "base_uri": "https://localhost:8080/",
          "height": 265
        },
        "id": "x_3KD-ptb8Wg",
        "outputId": "18beaa21-7544-40e0-b54e-9d0b6c186598"
      },
      "source": [
        "x_axis=np.linspace(0,10,20)\n",
        "y_axis=x_axis**2.0\n",
        "plt.plot(x_axis, y_axis);\n",
        "\n"
      ],
      "execution_count": null,
      "outputs": [
        {
          "output_type": "display_data",
          "data": {
            "image/png": "[encoded data removed]",
            "text/plain": [
              "<Figure size 432x288 with 1 Axes>"
            ]
          },
          "metadata": {
            "tags": [],
            "needs_background": "light"
          }
        }
      ]
    },
    {
      "cell_type": "code",
      "metadata": {
        "colab": {
          "base_uri": "https://localhost:8080/",
          "height": 265
        },
        "id": "yGwOpTJEePDJ",
        "outputId": "92494e77-735b-425c-8af4-42487f95e3af"
      },
      "source": [
        "plt.plot(x_axis, y_axis, \"bo-\");"
      ],
      "execution_count": null,
      "outputs": [
        {
          "output_type": "display_data",
          "data": {
            "image/png": "[encoded data removed]",
            "text/plain": [
              "<Figure size 432x288 with 1 Axes>"
            ]
          },
          "metadata": {
            "tags": [],
            "needs_background": "light"
          }
        }
      ]
    },
    {
      "cell_type": "code",
      "metadata": {
        "colab": {
          "base_uri": "https://localhost:8080/",
          "height": 265
        },
        "id": "akOVaV00ega5",
        "outputId": "1529ce50-8d84-4860-87e7-22f0c0b9a6cd"
      },
      "source": [
        "plt.plot(x_axis, y_axis, \"bo-\",linewidth=5, markersize=15);"
      ],
      "execution_count": null,
      "outputs": [
        {
          "output_type": "display_data",
          "data": {
            "image/png": "[encoded data removed]",
            "text/plain": [
              "<Figure size 432x288 with 1 Axes>"
            ]
          },
          "metadata": {
            "tags": [],
            "needs_background": "light"
          }
        }
      ]
    },
    {
      "cell_type": "code",
      "metadata": {
        "colab": {
          "base_uri": "https://localhost:8080/",
          "height": 265
        },
        "id": "jrENQ0PZewHg",
        "outputId": "c7ea2a76-a51b-4a96-b0ae-4ed7f9871127"
      },
      "source": [
        "plt.plot(x_axis, y_axis, \"yo-\",linewidth=5, markersize=15);"
      ],
      "execution_count": null,
      "outputs": [
        {
          "output_type": "display_data",
          "data": {
            "image/png": "[encoded data removed]",
            "text/plain": [
              "<Figure size 432x288 with 1 Axes>"
            ]
          },
          "metadata": {
            "tags": [],
            "needs_background": "light"
          }
        }
      ]
    },
    {
      "cell_type": "code",
      "metadata": {
        "colab": {
          "base_uri": "https://localhost:8080/",
          "height": 283
        },
        "id": "FcCqeQYLfJ0-",
        "outputId": "58388d80-4868-40ee-8667-2c4d226c15a6"
      },
      "source": [
        "plt.plot([0,1,2],[0,1,4],\"rd-\")"
      ],
      "execution_count": null,
      "outputs": [
        {
          "output_type": "execute_result",
          "data": {
            "text/plain": [
              "[<matplotlib.lines.Line2D at 0x7fd03f146fd0>]"
            ]
          },
          "metadata": {
            "tags": []
          },
          "execution_count": 64
        },
        {
          "output_type": "display_data",
          "data": {
            "image/png": "[encoded data removed]",
            "text/plain": [
              "<Figure size 432x288 with 1 Axes>"
            ]
          },
          "metadata": {
            "tags": [],
            "needs_background": "light"
          }
        }
      ]
    },
    {
      "cell_type": "code",
      "metadata": {
        "colab": {
          "base_uri": "https://localhost:8080/",
          "height": 279
        },
        "id": "ZRG59oUUMIXo",
        "outputId": "6ff1b8ef-043c-4902-ddcb-c889cc395574"
      },
      "source": [
        "x=np.linspace(0,10,20)\n",
        "y1=x**2\n",
        "y2=x**1.5\n",
        "plt.plot(x,y1,\"bo-\",linewidth=5,markersize=15,label=\"First\")\n",
        "plt.plot(x,y2,\"gs-\",linewidth=2,markersize=12,label=\"Second\")\n",
        "plt.xlabel(\"X\")\n",
        "plt.ylabel(\"Y\")\n",
        "plt.legend(loc=\"upper left\")\n",
        "plt.savefig(\"myplot.pdf\")"
      ],
      "execution_count": 12,
      "outputs": [
        {
          "output_type": "display_data",
          "data": {
            "image/png": "[encoded data removed]",
            "text/plain": [
              "<Figure size 432x288 with 1 Axes>"
            ]
          },
          "metadata": {
            "tags": [],
            "needs_background": "light"
          }
        }
      ]
    },
    {
      "cell_type": "code",
      "metadata": {
        "colab": {
          "base_uri": "https://localhost:8080/",
          "height": 301
        },
        "id": "Get3otoVP4EL",
        "outputId": "8b26554a-9917-4f60-bad7-d92d208f4fcd"
      },
      "source": [
        "x=np.linspace(0,10,20)\n",
        "y1=x**2\n",
        "y2=x**1.5\n",
        "plt.loglog(x,y1,\"bo-\",linewidth=5,markersize=15,label=\"First\")\n",
        "plt.loglog(x,y2,\"gs-\",linewidth=2,markersize=12,label=\"Second\")\n",
        "plt.xlabel(\"X\")\n",
        "plt.ylabel(\"Y\")\n",
        "plt.legend(loc=\"upper left\")\n",
        "\n"
      ],
      "execution_count": 13,
      "outputs": [
        {
          "output_type": "execute_result",
          "data": {
            "text/plain": [
              "<matplotlib.legend.Legend at 0x7fb90399f950>"
            ]
          },
          "metadata": {
            "tags": []
          },
          "execution_count": 13
        },
        {
          "output_type": "display_data",
          "data": {
            "image/png": "[encoded data removed]",
            "text/plain": [
              "<Figure size 432x288 with 1 Axes>"
            ]
          },
          "metadata": {
            "tags": [],
            "needs_background": "light"
          }
        }
      ]
    },
    {
      "cell_type": "code",
      "metadata": {
        "colab": {
          "base_uri": "https://localhost:8080/",
          "height": 301
        },
        "id": "H1IdppsWRMRi",
        "outputId": "3ba014e7-de5e-42d4-a8b2-b98ddd3dd393"
      },
      "source": [
        "x=np.logspace(-1,1,40)\n",
        "y1=x**2\n",
        "y2=x**1.5\n",
        "plt.loglog(x,y1,\"bo-\",linewidth=5,markersize=15,label=\"First\")\n",
        "plt.loglog(x,y2,\"gs-\",linewidth=2,markersize=12,label=\"Second\")\n",
        "plt.xlabel(\"X\")\n",
        "plt.ylabel(\"Y\")\n",
        "plt.legend(loc=\"upper left\")\n"
      ],
      "execution_count": 14,
      "outputs": [
        {
          "output_type": "execute_result",
          "data": {
            "text/plain": [
              "<matplotlib.legend.Legend at 0x7fb903e34610>"
            ]
          },
          "metadata": {
            "tags": []
          },
          "execution_count": 14
        },
        {
          "output_type": "display_data",
          "data": {
            "image/png": "[encoded data removed]",
            "text/plain": [
              "<Figure size 432x288 with 1 Axes>"
            ]
          },
          "metadata": {
            "tags": [],
            "needs_background": "light"
          }
        }
      ]
    },
    {
      "cell_type": "code",
      "metadata": {
        "colab": {
          "base_uri": "https://localhost:8080/",
          "height": 301
        },
        "id": "wjgbUhKiRhlp",
        "outputId": "a7259133-f1b4-4975-feb2-a40a364d89d8"
      },
      "source": [
        "x=np.logspace(-1,1,40)\n",
        "y1=x**2\n",
        "y2=x**1.5\n",
        "plt.semilogx(x,y1,\"bo-\",linewidth=5,markersize=15,label=\"First\")\n",
        "plt.semilogy(x,y2,\"gs-\",linewidth=2,markersize=12,label=\"Second\")\n",
        "plt.xlabel(\"X\")\n",
        "plt.ylabel(\"Y\")\n",
        "plt.legend(loc=\"upper left\")\n"
      ],
      "execution_count": 16,
      "outputs": [
        {
          "output_type": "execute_result",
          "data": {
            "text/plain": [
              "<matplotlib.legend.Legend at 0x7fb9037f8210>"
            ]
          },
          "metadata": {
            "tags": []
          },
          "execution_count": 16
        },
        {
          "output_type": "display_data",
          "data": {
            "image/png": "[encoded data removed]",
            "text/plain": [
              "<Figure size 432x288 with 1 Axes>"
            ]
          },
          "metadata": {
            "tags": [],
            "needs_background": "light"
          }
        }
      ]
    },
    {
      "cell_type": "code",
      "metadata": {
        "colab": {
          "base_uri": "https://localhost:8080/",
          "height": 287
        },
        "id": "3JF02ge0R4h-",
        "outputId": "d5344a29-639b-4d2c-b8ef-ce35bd0b9f03"
      },
      "source": [
        "x = np.logspace(0,1,10)\n",
        "y = x**2\n",
        "plt.loglog(x,y,\"bo-\")"
      ],
      "execution_count": 17,
      "outputs": [
        {
          "output_type": "execute_result",
          "data": {
            "text/plain": [
              "[<matplotlib.lines.Line2D at 0x7fb9034ab710>]"
            ]
          },
          "metadata": {
            "tags": []
          },
          "execution_count": 17
        },
        {
          "output_type": "display_data",
          "data": {
            "image/png": "[encoded data removed]",
            "text/plain": [
              "<Figure size 432x288 with 1 Axes>"
            ]
          },
          "metadata": {
            "tags": [],
            "needs_background": "light"
          }
        }
      ]
    },
    {
      "cell_type": "code",
      "metadata": {
        "colab": {
          "base_uri": "https://localhost:8080/",
          "height": 265
        },
        "id": "JOWtiuVISIXQ",
        "outputId": "327f590b-b873-4f03-976a-90e11bc26287"
      },
      "source": [
        "x=np.random.normal(size=1000)\n",
        "plt.hist(x);"
      ],
      "execution_count": 26,
      "outputs": [
        {
          "output_type": "display_data",
          "data": {
            "image/png": "[encoded data removed]",
            "text/plain": [
              "<Figure size 432x288 with 1 Axes>"
            ]
          },
          "metadata": {
            "tags": [],
            "needs_background": "light"
          }
        }
      ]
    },
    {
      "cell_type": "code",
      "metadata": {
        "colab": {
          "base_uri": "https://localhost:8080/",
          "height": 265
        },
        "id": "G5vz27FiTBc-",
        "outputId": "1fef8254-df37-4fff-bfed-372e935484c7"
      },
      "source": [
        "plt.hist(x, density = True, bins=np.linspace(-5,5,21));"
      ],
      "execution_count": 42,
      "outputs": [
        {
          "output_type": "display_data",
          "data": {
            "image/png": "[encoded data removed]",
            "text/plain": [
              "<Figure size 432x288 with 1 Axes>"
            ]
          },
          "metadata": {
            "tags": [],
            "needs_background": "light"
          }
        }
      ]
    },
    {
      "cell_type": "code",
      "metadata": {
        "colab": {
          "base_uri": "https://localhost:8080/",
          "height": 265
        },
        "id": "reoVZnxUV-ny",
        "outputId": "84e62e84-44b7-416e-ea57-66b6f23f8e98"
      },
      "source": [
        "x=np.random.gamma(2,3,100000)\n",
        "plt.hist(x,30);"
      ],
      "execution_count": 45,
      "outputs": [
        {
          "output_type": "display_data",
          "data": {
            "image/png": "[encoded data removed]",
            "text/plain": [
              "<Figure size 432x288 with 1 Axes>"
            ]
          },
          "metadata": {
            "tags": [],
            "needs_background": "light"
          }
        }
      ]
    },
    {
      "cell_type": "code",
      "metadata": {
        "colab": {
          "base_uri": "https://localhost:8080/",
          "height": 265
        },
        "id": "DkLfAtIuXRTk",
        "outputId": "d4aa91ff-0313-4fef-9a02-6a99b130ed93"
      },
      "source": [
        "plt.hist(x, bins=30, density=True);"
      ],
      "execution_count": 51,
      "outputs": [
        {
          "output_type": "display_data",
          "data": {
            "image/png": "[encoded data removed]",
            "text/plain": [
              "<Figure size 432x288 with 1 Axes>"
            ]
          },
          "metadata": {
            "tags": [],
            "needs_background": "light"
          }
        }
      ]
    },
    {
      "cell_type": "code",
      "metadata": {
        "colab": {
          "base_uri": "https://localhost:8080/",
          "height": 265
        },
        "id": "ciUFIWTeX3Af",
        "outputId": "19bad782-46ee-4f7a-9758-3d0507487a6e"
      },
      "source": [
        "plt.hist(x, bins=30, cumulative=True);"
      ],
      "execution_count": 52,
      "outputs": [
        {
          "output_type": "display_data",
          "data": {
            "image/png": "[encoded data removed]",
            "text/plain": [
              "<Figure size 432x288 with 1 Axes>"
            ]
          },
          "metadata": {
            "tags": [],
            "needs_background": "light"
          }
        }
      ]
    },
    {
      "cell_type": "code",
      "metadata": {
        "colab": {
          "base_uri": "https://localhost:8080/",
          "height": 265
        },
        "id": "9r_5bKCHX_F8",
        "outputId": "64c380dc-805e-454a-8d7f-a806256f03c8"
      },
      "source": [
        "plt.hist(x, bins=30, cumulative=True, density=True,histtype=\"step\");"
      ],
      "execution_count": 55,
      "outputs": [
        {
          "output_type": "display_data",
          "data": {
            "image/png": "[encoded data removed]",
            "text/plain": [
              "<Figure size 432x288 with 1 Axes>"
            ]
          },
          "metadata": {
            "tags": [],
            "needs_background": "light"
          }
        }
      ]
    },
    {
      "cell_type": "code",
      "metadata": {
        "colab": {
          "base_uri": "https://localhost:8080/",
          "height": 265
        },
        "id": "8Bv_yWUgYaiV",
        "outputId": "0a502386-20ef-413f-89b7-ac2631c0865b"
      },
      "source": [
        "plt.figure()\n",
        "plt.subplot(221)\n",
        "plt.hist(x,bins=30)\n",
        "plt.subplot(222)\n",
        "plt.hist(x,bins=30,density=True)\n",
        "plt.subplot(223)\n",
        "plt.hist(x, bins=30, cumulative=True);\n",
        "plt.subplot(224)\n",
        "plt.hist(x, bins=30, cumulative=True, density=True,histtype=\"step\");"
      ],
      "execution_count": 58,
      "outputs": [
        {
          "output_type": "display_data",
          "data": {
            "image/png": "[encoded data removed]",
            "text/plain": [
              "<Figure size 432x288 with 4 Axes>"
            ]
          },
          "metadata": {
            "tags": [],
            "needs_background": "light"
          }
        }
      ]
    },
    {
      "cell_type": "code",
      "metadata": {
        "colab": {
          "base_uri": "https://localhost:8080/"
        },
        "id": "TJMiKdcVZyki",
        "outputId": "2d486192-a297-446d-dc9a-eab8e18b4297"
      },
      "source": [
        "import random\n",
        "random.choice([\"H\",\"T\"])\n",
        "random.choice([1,2,3,4,5,6])\n",
        "random.choice(range(1,7))\n",
        "random.choice([range(1,7),range(1,9),range(1,11)])\n",
        "random.choice(random.choice([range(1,7),range(1,9),range(1,11)]))"
      ],
      "execution_count": 86,
      "outputs": [
        {
          "output_type": "execute_result",
          "data": {
            "text/plain": [
              "2"
            ]
          },
          "metadata": {
            "tags": []
          },
          "execution_count": 86
        }
      ]
    },
    {
      "cell_type": "code",
      "metadata": {
        "colab": {
          "base_uri": "https://localhost:8080/"
        },
        "id": "Sbu1Gj9ee7mg",
        "outputId": "351c38eb-6a98-4597-d72d-e9a7d50d1c6b"
      },
      "source": [
        "random.choice(list([1,2,3,4]))"
      ],
      "execution_count": 87,
      "outputs": [
        {
          "output_type": "execute_result",
          "data": {
            "text/plain": [
              "4"
            ]
          },
          "metadata": {
            "tags": []
          },
          "execution_count": 87
        }
      ]
    },
    {
      "cell_type": "code",
      "metadata": {
        "colab": {
          "base_uri": "https://localhost:8080/"
        },
        "id": "IofI0nhwfEvS",
        "outputId": "07a4c708-1adf-457b-b7d7-d83e6533d720"
      },
      "source": [
        "\n",
        "sum(random.choice(range(10)) for i in range(10))\n"
      ],
      "execution_count": 91,
      "outputs": [
        {
          "output_type": "execute_result",
          "data": {
            "text/plain": [
              "61"
            ]
          },
          "metadata": {
            "tags": []
          },
          "execution_count": 91
        }
      ]
    },
    {
      "cell_type": "code",
      "metadata": {
        "colab": {
          "base_uri": "https://localhost:8080/",
          "height": 265
        },
        "id": "1hyiXARPfeci",
        "outputId": "26a090b8-4db6-4eda-f71c-e08e598bb53c"
      },
      "source": [
        "rolles=[ ]\n",
        "for k in range(1000):\n",
        "  rolles.append(random.choice([1,2,3,4,5,6]))\n",
        "\n",
        "plt.hist(rolles, bins=np.linspace(0.5,6.5,7));"
      ],
      "execution_count": 104,
      "outputs": [
        {
          "output_type": "display_data",
          "data": {
            "image/png": "[encoded data removed]",
            "text/plain": [
              "<Figure size 432x288 with 1 Axes>"
            ]
          },
          "metadata": {
            "tags": [],
            "needs_background": "light"
          }
        }
      ]
    },
    {
      "cell_type": "code",
      "metadata": {
        "colab": {
          "base_uri": "https://localhost:8080/",
          "height": 265
        },
        "id": "62wQB22BifQH",
        "outputId": "cf4ad237-9bbc-475a-800e-675cf3f6d5ec"
      },
      "source": [
        "ys=[]\n",
        "for rep in range(10000):\n",
        "  y=0\n",
        "  for i in range(10):\n",
        "    x=random.choice([1,2,3,4,5,6])\n",
        "    y=y+x\n",
        "  ys.append(y)\n",
        "\n",
        "plt.hist(ys);"
      ],
      "execution_count": 114,
      "outputs": [
        {
          "output_type": "display_data",
          "data": {
            "image/png": "[encoded data removed]",
            "text/plain": [
              "<Figure size 432x288 with 1 Axes>"
            ]
          },
          "metadata": {
            "tags": [],
            "needs_background": "light"
          }
        }
      ]
    },
    {
      "cell_type": "code",
      "metadata": {
        "colab": {
          "base_uri": "https://localhost:8080/"
        },
        "id": "a421d30QjoHI",
        "outputId": "811432af-5583-4e67-c0bc-99c63b7a80d6"
      },
      "source": [
        "random.choice(list((1,2,3,4)))"
      ],
      "execution_count": 116,
      "outputs": [
        {
          "output_type": "execute_result",
          "data": {
            "text/plain": [
              "1"
            ]
          },
          "metadata": {
            "tags": []
          },
          "execution_count": 116
        }
      ]
    },
    {
      "cell_type": "code",
      "metadata": {
        "colab": {
          "base_uri": "https://localhost:8080/",
          "height": 265
        },
        "id": "XaXhjxvNkY1O",
        "outputId": "49959d48-6256-459e-a69d-e882da4dfdca"
      },
      "source": [
        "np.random.random()\n",
        "np.random.random(5)\n",
        "np.random.random((5,4))\n",
        "np.random.normal(0,1)\n",
        "np.random.normal(0,1,5)\n",
        "np.random.normal(0,1,(2,5))\n",
        "np.random.randint(1,7)\n",
        "X=np.random.randint(1, 7, (100000,10))\n",
        "X.shape\n",
        "np.sum(X,axis=0)\n",
        "Y=np.sum(X,axis=1)\n",
        "plt.hist(Y);"
      ],
      "execution_count": 136,
      "outputs": [
        {
          "output_type": "display_data",
          "data": {
            "image/png": "[encoded data removed]",
            "text/plain": [
              "<Figure size 432x288 with 1 Axes>"
            ]
          },
          "metadata": {
            "tags": [],
            "needs_background": "light"
          }
        }
      ]
    },
    {
      "cell_type": "code",
      "metadata": {
        "colab": {
          "base_uri": "https://localhost:8080/"
        },
        "id": "n4dOFcp_n2XT",
        "outputId": "fef70660-ec03-4fbf-a423-9f0cab53ab2a"
      },
      "source": [
        "np.random.random((5,2,3))"
      ],
      "execution_count": 138,
      "outputs": [
        {
          "output_type": "execute_result",
          "data": {
            "text/plain": [
              "array([[[0.63606871, 0.12437115, 0.47656986],\n",
              "        [0.37588199, 0.50388966, 0.12112622]],\n",
              "\n",
              "       [[0.6559057 , 0.9048246 , 0.14554104],\n",
              "        [0.48926511, 0.00627935, 0.78176534]],\n",
              "\n",
              "       [[0.26105973, 0.05584298, 0.26982479],\n",
              "        [0.41490815, 0.02660125, 0.04846364]],\n",
              "\n",
              "       [[0.86459572, 0.71755119, 0.10027167],\n",
              "        [0.94462954, 0.96263626, 0.91912517]],\n",
              "\n",
              "       [[0.44912506, 0.56381122, 0.95453109],\n",
              "        [0.65693326, 0.32829878, 0.88371266]]])"
            ]
          },
          "metadata": {
            "tags": []
          },
          "execution_count": 138
        }
      ]
    },
    {
      "cell_type": "code",
      "metadata": {
        "colab": {
          "base_uri": "https://localhost:8080/"
        },
        "id": "A0j59b5QoGhu",
        "outputId": "db5a7a46-4bd5-407d-a6ef-5883992bafb8"
      },
      "source": [
        "np.random.normal(1,2,3)"
      ],
      "execution_count": 140,
      "outputs": [
        {
          "output_type": "execute_result",
          "data": {
            "text/plain": [
              "array([1.32858648, 0.68326738, 0.15592771])"
            ]
          },
          "metadata": {
            "tags": []
          },
          "execution_count": 140
        }
      ]
    },
    {
      "cell_type": "code",
      "metadata": {
        "colab": {
          "base_uri": "https://localhost:8080/"
        },
        "id": "Z9KskA9HoHA5",
        "outputId": "8f7ea5be-51ac-4f2d-c84b-638d5d90314e"
      },
      "source": [
        "np.random.randint(1,5,(2,3))"
      ],
      "execution_count": 142,
      "outputs": [
        {
          "output_type": "execute_result",
          "data": {
            "text/plain": [
              "array([[4, 3, 2],\n",
              "       [3, 4, 4]])"
            ]
          },
          "metadata": {
            "tags": []
          },
          "execution_count": 142
        }
      ]
    },
    {
      "cell_type": "code",
      "metadata": {
        "colab": {
          "base_uri": "https://localhost:8080/"
        },
        "id": "VKowMPSqorHt",
        "outputId": "e612bb8b-c528-4e9e-9b93-4324d84720b4"
      },
      "source": [
        "np.sum(np.random.randint(1,7,(100,10)), axis=0)"
      ],
      "execution_count": 144,
      "outputs": [
        {
          "output_type": "execute_result",
          "data": {
            "text/plain": [
              "array([354, 330, 343, 350, 353, 347, 341, 350, 374, 352])"
            ]
          },
          "metadata": {
            "tags": []
          },
          "execution_count": 144
        }
      ]
    },
    {
      "cell_type": "code",
      "metadata": {
        "id": "vfbNKlGFp2CN"
      },
      "source": [
        "import time\n",
        "\n"
      ],
      "execution_count": 148,
      "outputs": []
    },
    {
      "cell_type": "code",
      "metadata": {
        "colab": {
          "base_uri": "https://localhost:8080/"
        },
        "id": "HGRTKf2GqXVe",
        "outputId": "0e133318-529b-4bb0-adce-561de574ecb8"
      },
      "source": [
        "start_time=time.clock()\n",
        "ys=[]\n",
        "for rep in range(10000):\n",
        "  y=0\n",
        "  for i in range(10):\n",
        "    x=random.choice([1,2,3,4,5,6])\n",
        "    y=y+x\n",
        "  ys.append(y)\n",
        "end_time=time.clock()\n",
        "print(start_time-end_time)"
      ],
      "execution_count": 149,
      "outputs": [
        {
          "output_type": "stream",
          "text": [
            "-0.10696799999999484\n"
          ],
          "name": "stdout"
        },
        {
          "output_type": "stream",
          "text": [
            "/usr/local/lib/python3.7/dist-packages/ipykernel_launcher.py:1: DeprecationWarning: time.clock has been deprecated in Python 3.3 and will be removed from Python 3.8: use time.perf_counter or time.process_time instead\n",
            "  \"\"\"Entry point for launching an IPython kernel.\n",
            "/usr/local/lib/python3.7/dist-packages/ipykernel_launcher.py:9: DeprecationWarning: time.clock has been deprecated in Python 3.3 and will be removed from Python 3.8: use time.perf_counter or time.process_time instead\n",
            "  if __name__ == '__main__':\n"
          ],
          "name": "stderr"
        }
      ]
    },
    {
      "cell_type": "code",
      "metadata": {
        "colab": {
          "base_uri": "https://localhost:8080/"
        },
        "id": "su_fLUQ9rC9U",
        "outputId": "229b7a49-31f9-4341-e6cc-6a6596826ce2"
      },
      "source": [
        "start_time=time.clock()\n",
        "X=np.random.randint(1, 7, (100000,10))\n",
        "Y=np.sum(X,axis=1)\n",
        "end_time=time.clock()\n",
        "print(start_time-end_time)"
      ],
      "execution_count": 152,
      "outputs": [
        {
          "output_type": "stream",
          "text": [
            "-0.016024999999999068\n"
          ],
          "name": "stdout"
        },
        {
          "output_type": "stream",
          "text": [
            "/usr/local/lib/python3.7/dist-packages/ipykernel_launcher.py:1: DeprecationWarning: time.clock has been deprecated in Python 3.3 and will be removed from Python 3.8: use time.perf_counter or time.process_time instead\n",
            "  \"\"\"Entry point for launching an IPython kernel.\n",
            "/usr/local/lib/python3.7/dist-packages/ipykernel_launcher.py:4: DeprecationWarning: time.clock has been deprecated in Python 3.3 and will be removed from Python 3.8: use time.perf_counter or time.process_time instead\n",
            "  after removing the cwd from sys.path.\n"
          ],
          "name": "stderr"
        }
      ]
    },
    {
      "cell_type": "code",
      "metadata": {
        "colab": {
          "base_uri": "https://localhost:8080/",
          "height": 285
        },
        "id": "DQisW7GQrdyJ",
        "outputId": "25ced3cf-3e0b-417e-b4d2-27babe190dcd"
      },
      "source": [
        "delta_X=np.random.normal(0,1,(2,5))\n",
        "plt.plot(delta_X[0],delta_X[1],\"go\")\n"
      ],
      "execution_count": 157,
      "outputs": [
        {
          "output_type": "execute_result",
          "data": {
            "text/plain": [
              "[<matplotlib.lines.Line2D at 0x7fb8fed98cd0>]"
            ]
          },
          "metadata": {
            "tags": []
          },
          "execution_count": 157
        },
        {
          "output_type": "display_data",
          "data": {
            "image/png": "[encoded data removed]",
            "text/plain": [
              "<Figure size 432x288 with 1 Axes>"
            ]
          },
          "metadata": {
            "tags": [],
            "needs_background": "light"
          }
        }
      ]
    },
    {
      "cell_type": "code",
      "metadata": {
        "colab": {
          "base_uri": "https://localhost:8080/",
          "height": 283
        },
        "id": "B_zq1VnQuuvZ",
        "outputId": "5a08bcac-ca10-445f-ce97-1757ebed1ff2"
      },
      "source": [
        "delta_X=np.random.normal(0,1,(2,5))\n",
        "X=np.cumsum(delta_X,axis=1)\n",
        "plt.plot(X[0],X[1],\"ro-\")"
      ],
      "execution_count": 163,
      "outputs": [
        {
          "output_type": "execute_result",
          "data": {
            "text/plain": [
              "[<matplotlib.lines.Line2D at 0x7fb8fe8cf910>]"
            ]
          },
          "metadata": {
            "tags": []
          },
          "execution_count": 163
        },
        {
          "output_type": "display_data",
          "data": {
            "image/png": "[encoded data removed]",
            "text/plain": [
              "<Figure size 432x288 with 1 Axes>"
            ]
          },
          "metadata": {
            "tags": [],
            "needs_background": "light"
          }
        }
      ]
    },
    {
      "cell_type": "code",
      "metadata": {
        "colab": {
          "base_uri": "https://localhost:8080/",
          "height": 283
        },
        "id": "6bJPsG2PwHcL",
        "outputId": "5461fccf-94eb-4425-fda0-da5eb77d4653"
      },
      "source": [
        "X_0=np.array([[0],[0]])\n",
        "delta_X=np.random.normal(0,1,(2,5))\n",
        "X=np.concatenate((X_0,np.cumsum(delta_X,axis=1)),axis=1)\n",
        "plt.plot(X[0],X[1],\"ro-\")"
      ],
      "execution_count": 168,
      "outputs": [
        {
          "output_type": "execute_result",
          "data": {
            "text/plain": [
              "[<matplotlib.lines.Line2D at 0x7fb8fe9ae290>]"
            ]
          },
          "metadata": {
            "tags": []
          },
          "execution_count": 168
        },
        {
          "output_type": "display_data",
          "data": {
            "image/png": "[encoded data removed]",
            "text/plain": [
              "<Figure size 432x288 with 1 Axes>"
            ]
          },
          "metadata": {
            "tags": [],
            "needs_background": "light"
          }
        }
      ]
    }
  ]
}